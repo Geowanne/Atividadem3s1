{
 "cells": [
  {
   "cell_type": "code",
   "execution_count": 6,
   "metadata": {},
   "outputs": [],
   "source": [
    "import requests\n",
    "\n",
    "class Modelos:\n",
    "\n",
    "    def __init__(self, codigo: str): \n",
    "        url = f\"https://parallelum.com.br/fipe/api/v1/carros/marcas/{codigo}/modelos\"\n",
    "        response = requests.get(url)\n",
    "        if response.status_code == 200:\n",
    "            data = response.json()\n",
    "\n",
    "            self.modelos = data['modelos']\n",
    "            self.passo = 0\n",
    "            self.tamanho = len(self.modelos)\n",
    "        else:\n",
    "            print(\"Falha ao carregar\")\n",
    "\n",
    "    def __iter__(self):\n",
    "        return self\n",
    "\n",
    "    def __next__(self):\n",
    "        if self.passo >= self.tamanho:\n",
    "            raise StopIteration\n",
    "\n",
    "        resposta = list(self.modelos)[self.passo]\n",
    "        self.passo = self.passo + 1\n",
    "        return resposta          "
   ]
  },
  {
   "cell_type": "code",
   "execution_count": null,
   "metadata": {},
   "outputs": [],
   "source": [
    "mod = Modelos(\"2\")\n",
    "for m in mod:\n",
    "    print(\"Codigo: \", m['codigo'], \"\\tNome: \", m['nome'])"
   ]
  }
 ],
 "metadata": {
  "kernelspec": {
   "display_name": "Python 3",
   "language": "python",
   "name": "python3"
  },
  "language_info": {
   "codemirror_mode": {
    "name": "ipython",
    "version": 3
   },
   "file_extension": ".py",
   "mimetype": "text/x-python",
   "name": "python",
   "nbconvert_exporter": "python",
   "pygments_lexer": "ipython3",
   "version": "3.10.11"
  },
  "orig_nbformat": 4
 },
 "nbformat": 4,
 "nbformat_minor": 2
}
